{
  "nbformat": 4,
  "nbformat_minor": 0,
  "metadata": {
    "colab": {
      "name": "installation.ipynb",
      "provenance": []
    },
    "kernelspec": {
      "name": "python3",
      "display_name": "Python 3"
    },
    "language_info": {
      "name": "python"
    }
  },
  "cells": [
    {
      "cell_type": "code",
      "execution_count": 1,
      "metadata": {
        "colab": {
          "base_uri": "https://localhost:8080/"
        },
        "id": "iC-FKTMm9Puq",
        "outputId": "4212f326-a85b-493b-d675-71b2774bd44b"
      },
      "outputs": [
        {
          "output_type": "stream",
          "name": "stdout",
          "text": [
            "Cloning into 'Perception_training'...\n",
            "remote: Enumerating objects: 3, done.\u001b[K\n",
            "remote: Counting objects: 100% (3/3), done.\u001b[K\n",
            "remote: Total 3 (delta 0), reused 0 (delta 0), pack-reused 0\u001b[K\n",
            "Unpacking objects: 100% (3/3), done.\n"
          ]
        }
      ],
      "source": [
        "# Git pull the codes from github to your colab machine\n",
        "# You will have this message:\n",
        "    # Warning: This notebook was not authored by Google.\n",
        "        # Click RUN ANYWAY\n",
        "!git clone https://github.com/xysong1201/Perception_training.git"
      ]
    },
    {
      "cell_type": "code",
      "source": [
        "# Mount Google Drive to the colab machine\n",
        "# You will have this message:\n",
        "    # Go to this URL in a browser: ---\n",
        "        # Follow the URL, sign-in to Google login\n",
        "        # ALLOW google drive to access to your google account \n",
        "        # Copy-paste the code to the notebook\n",
        "            # Enter your authorization code: ---\n",
        "from google.colab import drive\n",
        "drive.mount('/content/gdrive')\n",
        "\n",
        "# Copy github folder from colab machine to your google drive\n",
        "!cp -R /content/Perception_training/content/gdrive/My\\ Drive/Perception_training\n",
        "!rm -R /content/Perception_training"
      ],
      "metadata": {
        "colab": {
          "base_uri": "https://localhost:8080/"
        },
        "id": "uhE5P4RB9auj",
        "outputId": "8df33f88-a269-46eb-f23b-013b13f1af63"
      },
      "execution_count": 2,
      "outputs": [
        {
          "output_type": "stream",
          "name": "stdout",
          "text": [
            "Mounted at /content/gdrive\n",
            "cp: missing destination file operand after '/content/Perception_training/content/gdrive/My Drive/Perception_training'\n",
            "Try 'cp --help' for more information.\n"
          ]
        }
      ]
    },
    {
      "cell_type": "code",
      "source": [
        ""
      ],
      "metadata": {
        "id": "3GZIlbXV_Mbp"
      },
      "execution_count": null,
      "outputs": []
    }
  ]
}